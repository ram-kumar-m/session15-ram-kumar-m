{
 "cells": [
  {
   "cell_type": "markdown",
   "metadata": {},
   "source": [
    "# Assignment 15"
   ]
  },
  {
   "cell_type": "markdown",
   "metadata": {},
   "source": [
    "## Goal 1"
   ]
  },
  {
   "cell_type": "code",
   "execution_count": 58,
   "metadata": {},
   "outputs": [],
   "source": [
    "from collections import namedtuple, defaultdict\n",
    "import datetime"
   ]
  },
  {
   "cell_type": "code",
   "execution_count": 2,
   "metadata": {},
   "outputs": [],
   "source": [
    "csv_ = 'nyc_parking_tickets_extract.csv'"
   ]
  },
  {
   "cell_type": "code",
   "execution_count": 8,
   "metadata": {},
   "outputs": [],
   "source": [
    "with open(csv_, 'r') as f:\n",
    "    header = f.readline()\n",
    "    line = f.readline()"
   ]
  },
  {
   "cell_type": "code",
   "execution_count": 4,
   "metadata": {},
   "outputs": [
    {
     "data": {
      "text/plain": [
       "'Summons Number,Plate ID,Registration State,Plate Type,Issue Date,Violation Code,Vehicle Body Type,Vehicle Make,Violation Description\\n'"
      ]
     },
     "execution_count": 4,
     "metadata": {},
     "output_type": "execute_result"
    }
   ],
   "source": [
    "header"
   ]
  },
  {
   "cell_type": "code",
   "execution_count": 5,
   "metadata": {},
   "outputs": [],
   "source": [
    "cols = header.replace(' ','')"
   ]
  },
  {
   "cell_type": "code",
   "execution_count": 7,
   "metadata": {},
   "outputs": [
    {
     "data": {
      "text/plain": [
       "['SummonsNumber',\n",
       " 'PlateID',\n",
       " 'RegistrationState',\n",
       " 'PlateType',\n",
       " 'IssueDate',\n",
       " 'ViolationCode',\n",
       " 'VehicleBodyType',\n",
       " 'VehicleMake',\n",
       " 'ViolationDescription\\n']"
      ]
     },
     "execution_count": 7,
     "metadata": {},
     "output_type": "execute_result"
    }
   ],
   "source": [
    "cols.split(',')"
   ]
  },
  {
   "cell_type": "code",
   "execution_count": 9,
   "metadata": {},
   "outputs": [
    {
     "data": {
      "text/plain": [
       "'4006478550,VAD7274,VA,PAS,10/5/2016,5,4D,BMW,BUS LANE VIOLATION\\n'"
      ]
     },
     "execution_count": 9,
     "metadata": {},
     "output_type": "execute_result"
    }
   ],
   "source": [
    "line"
   ]
  },
  {
   "cell_type": "code",
   "execution_count": 39,
   "metadata": {},
   "outputs": [],
   "source": [
    "Summons = namedtuple('Summons', cols, defaults=(0, '', '', '', datetime.datetime, 0, '', '', '') )"
   ]
  },
  {
   "cell_type": "code",
   "execution_count": 18,
   "metadata": {},
   "outputs": [],
   "source": [
    "get_date = lambda x : datetime.datetime.strptime(x, '%m/%d/%Y')"
   ]
  },
  {
   "cell_type": "code",
   "execution_count": 43,
   "metadata": {},
   "outputs": [],
   "source": [
    "def cast_line(line:list) -> list:\n",
    "    \"Simple type casting as per fields\"\n",
    "    line[0] = int(line[0])\n",
    "    line[4] = get_date(line[4])\n",
    "    line[5] = int(line[5])\n",
    "    return line"
   ]
  },
  {
   "cell_type": "code",
   "execution_count": 65,
   "metadata": {},
   "outputs": [],
   "source": [
    "def get_a_summons():\n",
    "    with open(csv_, 'r') as f:\n",
    "        _ = next(f)\n",
    "        for line in f:\n",
    "            line = line.strip('\\n')\n",
    "            line = cast_line(line.split(','))\n",
    "            if len(line) == 9:\n",
    "                yield Summons(*line)\n",
    "            else:\n",
    "                print(line)"
   ]
  },
  {
   "cell_type": "code",
   "execution_count": 49,
   "metadata": {},
   "outputs": [],
   "source": [
    "iter_summons = iter(get_a_summons())"
   ]
  },
  {
   "cell_type": "code",
   "execution_count": 50,
   "metadata": {},
   "outputs": [
    {
     "data": {
      "text/plain": [
       "Summons(SummonsNumber=4006478550, PlateID='VAD7274', RegistrationState='VA', PlateType='PAS', IssueDate=datetime.datetime(2016, 10, 5, 0, 0), ViolationCode=5, VehicleBodyType='4D', VehicleMake='BMW', ViolationDescription='BUS LANE VIOLATION')"
      ]
     },
     "execution_count": 50,
     "metadata": {},
     "output_type": "execute_result"
    }
   ],
   "source": [
    "next(iter_summons)"
   ]
  },
  {
   "cell_type": "code",
   "execution_count": 51,
   "metadata": {},
   "outputs": [
    {
     "data": {
      "text/plain": [
       "Summons(SummonsNumber=4006462396, PlateID='22834JK', RegistrationState='NY', PlateType='COM', IssueDate=datetime.datetime(2016, 9, 30, 0, 0), ViolationCode=5, VehicleBodyType='VAN', VehicleMake='CHEVR', ViolationDescription='BUS LANE VIOLATION')"
      ]
     },
     "execution_count": 51,
     "metadata": {},
     "output_type": "execute_result"
    }
   ],
   "source": [
    "next(iter_summons)"
   ]
  },
  {
   "cell_type": "markdown",
   "metadata": {},
   "source": [
    "## Goal 2"
   ]
  },
  {
   "cell_type": "code",
   "execution_count": 66,
   "metadata": {},
   "outputs": [
    {
     "name": "stdout",
     "output_type": "stream",
     "text": [
      "[8480309064, '51771JW', 'NY', 'COM', datetime.datetime(2017, 1, 26, 0, 0), 64, 'VAN', 'INTER', '\"64-No STD Ex Con/DPL', ' D/S Dec\"']\n"
     ]
    }
   ],
   "source": [
    "vialations = defaultdict(int)\n",
    "for summon in get_a_summons():\n",
    "    vialations[summon.VehicleMake] +=1"
   ]
  },
  {
   "cell_type": "markdown",
   "metadata": {},
   "source": [
    "Here we see an data field which has a comma in line which is used as a seperator, hence the above data point could be an outlier and needs to be introspected."
   ]
  },
  {
   "cell_type": "code",
   "execution_count": 67,
   "metadata": {},
   "outputs": [
    {
     "data": {
      "text/plain": [
       "defaultdict(int,\n",
       "            {'BMW': 34,\n",
       "             'CHEVR': 76,\n",
       "             'DODGE': 45,\n",
       "             'FORD': 104,\n",
       "             'FRUEH': 44,\n",
       "             'HONDA': 106,\n",
       "             'LINCO': 12,\n",
       "             'TOYOT': 112,\n",
       "             'CADIL': 9,\n",
       "             'CHRYS': 12,\n",
       "             'FIR': 1,\n",
       "             'GMC': 35,\n",
       "             'HYUND': 35,\n",
       "             'JAGUA': 3,\n",
       "             'JEEP': 22,\n",
       "             'LEXUS': 26,\n",
       "             'ME/BE': 38,\n",
       "             'MERCU': 4,\n",
       "             'MITSU': 11,\n",
       "             'NISSA': 70,\n",
       "             'HIN': 6,\n",
       "             'NS/OT': 18,\n",
       "             'WORKH': 2,\n",
       "             'ACURA': 12,\n",
       "             'AUDI': 12,\n",
       "             'INTER': 24,\n",
       "             'ISUZU': 10,\n",
       "             'KENWO': 5,\n",
       "             'KIA': 8,\n",
       "             'OLDSM': 1,\n",
       "             'SUBAR': 18,\n",
       "             'VOLVO': 12,\n",
       "             'SATUR': 2,\n",
       "             'SMART': 3,\n",
       "             'INFIN': 13,\n",
       "             'PETER': 1,\n",
       "             '': 5,\n",
       "             'CITRO': 1,\n",
       "             'ROVER': 5,\n",
       "             'BUICK': 5,\n",
       "             'GEO': 1,\n",
       "             'MAZDA': 5,\n",
       "             'PORSC': 3,\n",
       "             'VOLKS': 8,\n",
       "             'YAMAH': 1,\n",
       "             'BSA': 1,\n",
       "             'MINI': 1,\n",
       "             'PONTI': 1,\n",
       "             'SPRI': 1,\n",
       "             'PLYMO': 1,\n",
       "             'SCION': 2,\n",
       "             'UPS': 1,\n",
       "             'FIAT': 1,\n",
       "             'UD': 1,\n",
       "             'UTILI': 1,\n",
       "             'GMCQ': 1,\n",
       "             'SAAB': 2,\n",
       "             'HINO': 2,\n",
       "             'STAR': 1,\n",
       "             'AM/T': 1,\n",
       "             'MI/F': 1})"
      ]
     },
     "execution_count": 67,
     "metadata": {},
     "output_type": "execute_result"
    }
   ],
   "source": [
    "vialations"
   ]
  },
  {
   "cell_type": "markdown",
   "metadata": {},
   "source": [
    "The above are violations by company wihout considering the outlier"
   ]
  },
  {
   "cell_type": "code",
   "execution_count": 68,
   "metadata": {},
   "outputs": [],
   "source": [
    "#considering ther outlier\n",
    "vialations['INTER'] +=1"
   ]
  },
  {
   "cell_type": "code",
   "execution_count": 72,
   "metadata": {},
   "outputs": [
    {
     "data": {
      "text/plain": [
       "[('', 5),\n",
       " ('ACURA', 12),\n",
       " ('AM/T', 1),\n",
       " ('AUDI', 12),\n",
       " ('BMW', 34),\n",
       " ('BSA', 1),\n",
       " ('BUICK', 5),\n",
       " ('CADIL', 9),\n",
       " ('CHEVR', 76),\n",
       " ('CHRYS', 12),\n",
       " ('CITRO', 1),\n",
       " ('DODGE', 45),\n",
       " ('FIAT', 1),\n",
       " ('FIR', 1),\n",
       " ('FORD', 104),\n",
       " ('FRUEH', 44),\n",
       " ('GEO', 1),\n",
       " ('GMC', 35),\n",
       " ('GMCQ', 1),\n",
       " ('HIN', 6),\n",
       " ('HINO', 2),\n",
       " ('HONDA', 106),\n",
       " ('HYUND', 35),\n",
       " ('INFIN', 13),\n",
       " ('INTER', 25),\n",
       " ('ISUZU', 10),\n",
       " ('JAGUA', 3),\n",
       " ('JEEP', 22),\n",
       " ('KENWO', 5),\n",
       " ('KIA', 8),\n",
       " ('LEXUS', 26),\n",
       " ('LINCO', 12),\n",
       " ('MAZDA', 5),\n",
       " ('ME/BE', 38),\n",
       " ('MERCU', 4),\n",
       " ('MI/F', 1),\n",
       " ('MINI', 1),\n",
       " ('MITSU', 11),\n",
       " ('NISSA', 70),\n",
       " ('NS/OT', 18),\n",
       " ('OLDSM', 1),\n",
       " ('PETER', 1),\n",
       " ('PLYMO', 1),\n",
       " ('PONTI', 1),\n",
       " ('PORSC', 3),\n",
       " ('ROVER', 5),\n",
       " ('SAAB', 2),\n",
       " ('SATUR', 2),\n",
       " ('SCION', 2),\n",
       " ('SMART', 3),\n",
       " ('SPRI', 1),\n",
       " ('STAR', 1),\n",
       " ('SUBAR', 18),\n",
       " ('TOYOT', 112),\n",
       " ('UD', 1),\n",
       " ('UPS', 1),\n",
       " ('UTILI', 1),\n",
       " ('VOLKS', 8),\n",
       " ('VOLVO', 12),\n",
       " ('WORKH', 2),\n",
       " ('YAMAH', 1)]"
      ]
     },
     "execution_count": 72,
     "metadata": {},
     "output_type": "execute_result"
    }
   ],
   "source": [
    "sorted(vialations.items(), key=la)"
   ]
  },
  {
   "cell_type": "code",
   "execution_count": null,
   "metadata": {},
   "outputs": [],
   "source": []
  }
 ],
 "metadata": {
  "kernelspec": {
   "display_name": "python3",
   "language": "python",
   "name": "python3"
  },
  "language_info": {
   "codemirror_mode": {
    "name": "ipython",
    "version": 3
   },
   "file_extension": ".py",
   "mimetype": "text/x-python",
   "name": "python",
   "nbconvert_exporter": "python",
   "pygments_lexer": "ipython3",
   "version": "3.8.5"
  }
 },
 "nbformat": 4,
 "nbformat_minor": 4
}
